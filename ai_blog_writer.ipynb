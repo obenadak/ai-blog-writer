{
  "nbformat": 4,
  "nbformat_minor": 0,
  "metadata": {
    "colab": {
      "provenance": [],
      "gpuType": "T4"
    },
    "kernelspec": {
      "name": "python3",
      "display_name": "Python 3"
    },
    "language_info": {
      "name": "python"
    },
    "accelerator": "GPU"
  },
  "cells": [
    {
      "cell_type": "code",
      "source": [
        "!pip install -q -U transformers accelerate bitsandbytes torch fastapi \"uvicorn[standard]\" pyngrok nest-asyncio sqlalchemy psycopg2-binary pydantic-settings\n",
        "\n",
        "import torch\n",
        "from transformers import AutoTokenizer, AutoModelForCausalLM, BitsAndBytesConfig, pipeline\n",
        "from huggingface_hub import login\n",
        "from google.colab import userdata\n",
        "import uvicorn\n",
        "from pyngrok import ngrok\n",
        "import nest_asyncio\n",
        "\n",
        "from fastapi import FastAPI, Depends, HTTPException\n",
        "from sqlalchemy.orm import Session\n",
        "from sqlalchemy import text\n",
        "import models\n",
        "import schemas\n",
        "import database"
      ],
      "metadata": {
        "id": "CbVOAggn6agG"
      },
      "execution_count": null,
      "outputs": []
    },
    {
      "cell_type": "code",
      "execution_count": null,
      "metadata": {
        "id": "MtPFCLAGYpz4"
      },
      "outputs": [],
      "source": [
        "# GİRİŞ YAPMA\n",
        "try:\n",
        "    hf_token = userdata.get('HF_TOKEN')\n",
        "    login(token=hf_token)\n",
        "    print(\"Hugging Face girişi Colab Secrets ile başarıyla yapıldı.\")\n",
        "\n",
        "    ngrok_token = userdata.get('NGROK_TOKEN')\n",
        "    ngrok.set_auth_token(ngrok_token)\n",
        "    print(\"ngrok kimlik doğrulaması başarıyla yapıldı.\")\n",
        "except Exception as e:\n",
        "    print(f\"Bir hata oluştu. Lütfen Colab'de 'HF_TOKEN' ve 'NGROK_TOKEN' adında gizli anahtarlar oluşturduğunuzdan emin olun. Hata: {e}\")"
      ]
    },
    {
      "cell_type": "code",
      "source": [
        "# LLM VE PİPELİNE KURULUMU\n",
        "def initialize_pipeline():\n",
        "    print(\"Model ve pipeline başlatılıyor...\")\n",
        "    model_id = \"Trendyol/Llama-3-Trendyol-LLM-8b-chat-v2.0\"\n",
        "    bnb_config = BitsAndBytesConfig(load_in_4bit=True, bnb_4bit_quant_type=\"nf4\", bnb_4bit_compute_dtype=torch.bfloat16)\n",
        "    tokenizer = AutoTokenizer.from_pretrained(model_id)\n",
        "    model = AutoModelForCausalLM.from_pretrained(model_id, quantization_config=bnb_config, device_map=\"auto\", torch_dtype=torch.bfloat16, trust_remote_code=True)\n",
        "    hf_pipe = pipeline(\"text-generation\", model=model, tokenizer=tokenizer, max_new_tokens=2048, temperature=0.3, repetition_penalty=1.15, do_sample=True, top_p=0.9, top_k=50)\n",
        "    print(\"Model ve pipeline başarıyla başlatıldı.\")\n",
        "    return hf_pipe\n",
        "\n",
        "def generate_and_clean(pipe, messages):\n",
        "    prompt = pipe.tokenizer.apply_chat_template(messages, tokenize=False, add_generation_prompt=True)\n",
        "    outputs = pipe(prompt, return_full_text=False, eos_token_id=pipe.tokenizer.eos_token_id)\n",
        "    return outputs[0][\"generated_text\"].strip()\n",
        "\n",
        "# AJANLAR\n",
        "class Planner:\n",
        "    def __init__(self, pipe): self.pipe = pipe\n",
        "    def plan(self, topic):\n",
        "        system_prompt = (\n",
        "            \"Sen, alanında uzman bir içerik stratejisti ve planlayıcısısın. \"\n",
        "            \"Görevin, verilen herhangi bir konu için kapsamlı, detaylı ve mantıksal olarak tutarlı bir blog yazısı planı oluşturmaktır. \"\n",
        "            \"Konunun ne olduğundan bağımsız olarak, o konuyu en mantıklı şekilde alt başlıklara ayırmalısın.\"\n",
        "            \"Çıktın SADECE Markdown formatında başlıklar (#, ##, ###) içermelidir. ASLA açıklama veya paragraf yazma.\"\n",
        "            \"\\n\"\n",
        "            \"Planın genel yapısı şu şekilde olmalıdır:\"\n",
        "            \"\\n\"\n",
        "            \"1. Bir '# Giriş' bölümü.\"\n",
        "            \"\\n\"\n",
        "            \"2. Konuyu anlamlı bir şekilde bölen, en az 3 ana tema için '##' ile başlayan başlıklar.\"\n",
        "            \"\\n\"\n",
        "            \"3. Her ana temanın altına, o temayı detaylandıran en az 2 alt başlık için '###' ile başlayan başlıklar.\"\n",
        "            \"\\n\"\n",
        "            \"4. Bir '# Sonuç' bölümü.\"\n",
        "        )\n",
        "        messages = [{\"role\": \"system\", \"content\": system_prompt}, {\"role\": \"user\", \"content\": f\"Konu: '{topic}' için Markdown formatında detaylı bir plan oluştur.\"}]\n",
        "        return generate_and_clean(self.pipe, messages)\n",
        "class Writer:\n",
        "    def __init__(self, pipe): self.pipe = pipe\n",
        "    def write(self, plan):\n",
        "        system_prompt = (\n",
        "           \"Sen, akıcı ve detaylı bir üsluba sahip profesyonel bir blog yazarısın. \"\n",
        "           \"Sana verilen Markdown formatındaki plana harfiyen uyarak, her bir başlık için en az 2-3 paragraftan oluşan, zengin ve bilgilendirici içerik oluştur. \"\n",
        "           \"Başlıkları metnin içinde koru. Paragraflar arası geçişlerin yumuşak olmasına özen göster. \"\n",
        "           \"Yazında yabancı dilde kelimeler kullanma. Sadece saf, akıcı ve kapsamlı bir Türkçe kullan. \"\n",
        "           \"Okuyucuyu sıkmadan konuyu derinlemesine işle.\"\n",
        "        )\n",
        "        messages = [{\"role\": \"system\", \"content\": system_prompt}, {\"role\": \"user\", \"content\": f\"Aşağıdaki plana göre, her başlığı doldurarak bir blog yazısı yaz:\\n\\n{plan}\"}]\n",
        "        return generate_and_clean(self.pipe, messages)\n",
        "class Editor:\n",
        "    def __init__(self, pipe): self.pipe = pipe\n",
        "    def edit(self, draft):\n",
        "        system_prompt = (\n",
        "            \"Sen, titiz ve deneyimli bir baş editörsün. Görevin, sana verilen taslak metni mükemmelleştirmektir. \"\n",
        "            \"Metnin ana yapısını, başlıklarını ve uzunluğunu koruyarak cümleleri yeniden yaz, akıcılığı artır ve \"\n",
        "            \"varsa anlamsal hataları, imla hatalarını ve yazım yanlışlarını düzelt. \"\n",
        "            \"Paragrafları ASLA birleştirme, kısaltma veya özetleme, sadece daha profesyonel ve okunabilir hale getir. \"\n",
        "            \"Amacın, metni yayınlanmaya hazır hale getirmektir. Sadece düzenlenmiş nihai metni çıktı olarak ver.\"\n",
        "        )\n",
        "        messages = [{\"role\": \"system\", \"content\": system_prompt}, {\"role\": \"user\", \"content\": f\"Aşağıdaki taslak metni düzenle ve son halini ver:\\n\\n{draft}\"}]\n",
        "        return generate_and_clean(self.pipe, messages)"
      ],
      "metadata": {
        "id": "mZubdI-O6p1g"
      },
      "execution_count": null,
      "outputs": []
    },
    {
      "cell_type": "code",
      "source": [
        "pipe = initialize_pipeline()\n",
        "planner = Planner(pipe)\n",
        "writer = Writer(pipe)\n",
        "editor = Editor(pipe)"
      ],
      "metadata": {
        "id": "aje4Ghn360Ow"
      },
      "execution_count": null,
      "outputs": []
    },
    {
      "cell_type": "code",
      "source": [
        "models.Base.metadata.create_all(bind=database.engine)"
      ],
      "metadata": {
        "id": "kCC0UZPUiSmU"
      },
      "execution_count": null,
      "outputs": []
    },
    {
      "cell_type": "code",
      "source": [
        "from sqlalchemy import text\n",
        "\n",
        "try:\n",
        "    print(\"Veritabanı bağlantısı kontrol ediliyor ve uyandırılıyor...\")\n",
        "    db_wakeup = database.SessionLocal()\n",
        "    db_wakeup.execute(text(\"SELECT 1\")) # Veritabanına basit bir \"ping\" sorgusu gönder\n",
        "    db_wakeup.close()\n",
        "    print(\"✅ Veritabanı bağlantısı başarılı ve aktif.\")\n",
        "except Exception as e:\n",
        "    print(f\"❌ Veritabanına bağlanılamadı. Hata: {e}\")\n",
        "    print(\"Lütfen Neon.tech projenizin aktif olduğundan ve DATABASE_URL'nin doğru olduğundan emin olun.\")"
      ],
      "metadata": {
        "id": "fDMfDfHFh1AQ"
      },
      "execution_count": null,
      "outputs": []
    },
    {
      "cell_type": "code",
      "source": [
        "# FastAPI uygulamasını oluştur\n",
        "app = FastAPI(title=\"AI Blog Yazarı API (Veritabanı Destekli)\", version=\"3.0.0\")"
      ],
      "metadata": {
        "id": "TL147q93iD7c"
      },
      "execution_count": null,
      "outputs": []
    },
    {
      "cell_type": "code",
      "source": [
        "# Henüz kullanıcı kayıt sistemimiz olmadığı için, makaleleri bir kullanıcıya bağlamak amacıyla\n",
        "# veritabanına elle bir test kullanıcısı ekle\n",
        "db_for_setup = database.SessionLocal()\n",
        "user_exists = db_for_setup.query(models.User).filter(models.User.id == 1).first()\n",
        "if not user_exists:\n",
        "    print(\"İlk test kullanıcısı (ID=1) oluşturuluyor...\")\n",
        "    test_user = models.User(id=1, username=\"testuser\", email=\"test@test.com\", hashed_password=\"notarealpassword\")\n",
        "    db_for_setup.add(test_user)\n",
        "    db_for_setup.commit()\n",
        "    print(\"Test kullanıcısı oluşturuldu.\")\n",
        "else:\n",
        "    print(\"Test kullanıcısı zaten mevcut.\")\n",
        "db_for_setup.close()"
      ],
      "metadata": {
        "id": "6ZXzKl35F9H1"
      },
      "execution_count": null,
      "outputs": []
    },
    {
      "cell_type": "code",
      "source": [
        "@app.get(\"/\", summary=\"API Durum Kontrolü\")\n",
        "def read_root():\n",
        "    return {\"message\": \"AI Blog Yazarı API'sine hoş geldiniz! Veritabanı bağlantısı aktif.\"}\n",
        "\n",
        "# Yeni bir makale oluştur ve ilk planını yap\n",
        "@app.post(\"/articles/\", response_model=schemas.Article, summary=\"Yeni Makale Oluştur ve Planla\")\n",
        "def create_article_and_plan(\n",
        "    title: str,\n",
        "    db: Session = Depends(database.get_db)\n",
        "):\n",
        "    print(f\"Yeni makale ve plan isteği alındı: '{title}'\")\n",
        "    plan_text = planner.plan(title)\n",
        "    print(\"Plan oluşturuldu.\")\n",
        "\n",
        "    # Makaleyi veritabanına kaydet\n",
        "    db_article = models.Article(\n",
        "        title=title,\n",
        "        plan_content=plan_text,\n",
        "        status=\"writing_pending\",\n",
        "        owner_id=1 # tüm makaleleri test kullanıcısına bağla\n",
        "    )\n",
        "    db.add(db_article)\n",
        "    db.commit()\n",
        "    db.refresh(db_article)\n",
        "    print(f\"Makale (ID: {db_article.id}) veritabanına kaydedildi.\")\n",
        "    return db_article\n",
        "\n",
        "# Mevcut bir makalenin planını güncelle\n",
        "@app.put(\"/articles/{article_id}/plan\", response_model=schemas.Article, summary=\"Makale Planını Güncelle\")\n",
        "def update_article_plan(\n",
        "    article_id: int,\n",
        "    request: schemas.PlanUpdateRequest,\n",
        "    db: Session = Depends(database.get_db)\n",
        "):\n",
        "    db_article = db.query(models.Article).filter(models.Article.id == article_id).first()\n",
        "    if not db_article:\n",
        "        raise HTTPException(status_code=404, detail=\"Makale bulunamadı\")\n",
        "\n",
        "    db_article.plan_content = request.new_plan\n",
        "    db.commit()\n",
        "    db.refresh(db_article)\n",
        "    print(f\"Makale planı (ID: {article_id}) başarıyla ve düzgün bir şekilde güncellendi.\")\n",
        "    return db_article\n",
        "\n",
        "# Makaleyi yaz ve düzenle\n",
        "@app.post(\"/articles/{article_id}/write\", response_model=schemas.Article, summary=\"Makaleyi Yaz ve Düzenle\")\n",
        "def write_and_edit_article(\n",
        "    article_id: int,\n",
        "    db: Session = Depends(database.get_db)\n",
        "):\n",
        "    print(f\"Yazma isteği alındı (Makale ID: {article_id})\")\n",
        "    db_article = db.query(models.Article).filter(models.Article.id == article_id).first()\n",
        "    if not db_article:\n",
        "        raise HTTPException(status_code=404, detail=\"Makale bulunamadı\")\n",
        "\n",
        "    # Önce yaz ve taslağı kaydet\n",
        "    draft_text = writer.write(db_article.plan_content)\n",
        "    print(\"Taslak metin oluşturuldu.\")\n",
        "    db_article.draft_content = draft_text # TASLAĞI VERİTABANINA YAZ\n",
        "\n",
        "    # Sonra düzenle ve nihai metni kaydet\n",
        "    final_text = editor.edit(draft_text)\n",
        "    print(\"Nihai metin düzenlendi.\")\n",
        "    db_article.final_content = final_text\n",
        "\n",
        "    # Durumu güncelle ve kaydet\n",
        "    db_article.status = \"completed\"\n",
        "    db.commit()\n",
        "    db.refresh(db_article)\n",
        "    print(f\"Makale (ID: {article_id}) güncellendi ve tamamlandı.\")\n",
        "    return db_article\n",
        "\n",
        "# Veritabanındaki tüm makaleleri listele\n",
        "@app.get(\"/articles/\", response_model=list[schemas.Article], summary=\"Tüm Makaleleri Listele\")\n",
        "def read_articles(skip: int = 0, limit: int = 100, db: Session = Depends(database.get_db)):\n",
        "    articles = db.query(models.Article).order_by(models.Article.id.desc()).offset(skip).limit(limit).all()\n",
        "    return articles"
      ],
      "metadata": {
        "id": "RLyzfyDk7DPt"
      },
      "execution_count": null,
      "outputs": []
    },
    {
      "cell_type": "code",
      "source": [
        "# Sunucu başlatma\n",
        "public_url = ngrok.connect(8000)\n",
        "print(f\"✅ Sunucu genel internete açıldı! Adresiniz: {public_url}\")\n",
        "print(\"Bu adresi kopyalayıp yerel bilgisayarınızdaki Streamlit uygulamasında kullanın.\")\n",
        "\n",
        "nest_asyncio.apply()\n",
        "uvicorn.run(app, port=8000)"
      ],
      "metadata": {
        "id": "PbBbtoeO7E8m"
      },
      "execution_count": null,
      "outputs": []
    }
  ]
}